{
 "cells": [
  {
   "cell_type": "markdown",
   "metadata": {},
   "source": [
    "# Import MNIST images"
   ]
  },
  {
   "cell_type": "markdown",
   "metadata": {},
   "source": [
    "Description of MNIST formats obtained at http://yann.lecun.com/exdb/mnist/"
   ]
  },
  {
   "cell_type": "markdown",
   "metadata": {},
   "source": [
    "## Defining functions"
   ]
  },
  {
   "cell_type": "code",
   "execution_count": 1,
   "metadata": {},
   "outputs": [],
   "source": [
    "def import_mnist_images(filename):\n",
    "    import struct\n",
    "    import numpy as np\n",
    "\n",
    "    struct_header_fmt    = '>4i' # int[4]\n",
    "    struct_header_len    = struct.calcsize(struct_header_fmt)\n",
    "    struct_header_unpack = struct.Struct(struct_header_fmt).unpack_from\n",
    "\n",
    "    struct_data_fmt    = '>784B' # unsigned byte[28x28] per image\n",
    "    struct_data_len    = struct.calcsize(struct_data_fmt)\n",
    "    struct_data_unpack = struct.Struct(struct_data_fmt).unpack_from\n",
    "\n",
    "    pixels = []\n",
    "    with open(filename, \"rb\") as f:\n",
    "        header = f.read(struct_header_len)\n",
    "        # header is not saved\n",
    "        while True:\n",
    "            data = f.read(struct_data_len)\n",
    "            if not data: break # read until EOF\n",
    "            s = struct_data_unpack(data)\n",
    "            pixels.append(s)\n",
    "    return np.array(pixels)\n",
    "\n",
    "def import_mnist_labels(filename):\n",
    "    import struct\n",
    "    import numpy as np\n",
    "    \n",
    "    struct_header_fmt    = '>2i' # int[4]\n",
    "    struct_header_len    = struct.calcsize(struct_header_fmt)\n",
    "    struct_header_unpack = struct.Struct(struct_header_fmt).unpack_from\n",
    "\n",
    "    struct_data_fmt    = '>B' # unsigned byte\n",
    "    struct_data_len    = struct.calcsize(struct_data_fmt)\n",
    "    struct_data_unpack = struct.Struct(struct_data_fmt).unpack_from\n",
    "\n",
    "    labels = []\n",
    "    with open(filename, \"rb\") as f:\n",
    "        header = f.read(struct_header_len)\n",
    "        # header is not saved\n",
    "        while True:\n",
    "            data = f.read(struct_data_len)\n",
    "            if not data: break # read until EOF\n",
    "            s = struct_data_unpack(data)\n",
    "            labels.append(s)\n",
    "    return np.array(labels)\n",
    "\n",
    "def display_mnist_image(pixels, label):\n",
    "    import matplotlib.pyplot as plt\n",
    "    \n",
    "    pixels = pixels.reshape(28,28)\n",
    "    plt.imshow(pixels, cmap='binary')\n",
    "    plt.title('Expected Character: ' + str(label))\n",
    "    plt.show()"
   ]
  },
  {
   "cell_type": "markdown",
   "metadata": {},
   "source": [
    "## Importing train files"
   ]
  },
  {
   "cell_type": "code",
   "execution_count": 2,
   "metadata": {},
   "outputs": [
    {
     "name": "stdout",
     "output_type": "stream",
     "text": [
      "Train images matrix shape: (60000, 784)\n",
      "Train labels matrix shape: (60000, 1)\n"
     ]
    },
    {
     "data": {
      "image/png": "[encoded data removed]",
      "text/plain": [
       "<matplotlib.figure.Figure at 0x7fb336afddd8>"
      ]
     },
     "metadata": {},
     "output_type": "display_data"
    }
   ],
   "source": [
    "train_images_file = './datasets/train-images-idx3-ubyte'\n",
    "train_labels_file = './datasets/train-labels-idx1-ubyte'\n",
    "\n",
    "train_images = import_mnist_images(train_images_file)\n",
    "train_labels = import_mnist_labels(train_labels_file)\n",
    "\n",
    "print('Train images matrix shape: ' + str(train_images.shape))\n",
    "print('Train labels matrix shape: ' + str(train_labels.shape))\n",
    "display_mnist_image(train_images[0],train_labels[0])"
   ]
  },
  {
   "cell_type": "markdown",
   "metadata": {},
   "source": [
    "## Importing test files"
   ]
  },
  {
   "cell_type": "code",
   "execution_count": 3,
   "metadata": {},
   "outputs": [
    {
     "name": "stdout",
     "output_type": "stream",
     "text": [
      "Test images matrix shape: (10000, 784)\n",
      "Test labels matrix shape: (10000, 1)\n"
     ]
    }
   ],
   "source": [
    "test_images_file = './datasets/t10k-images-idx3-ubyte'\n",
    "test_labels_file = './datasets/t10k-labels-idx1-ubyte'\n",
    "\n",
    "test_images = import_mnist_images(test_images_file)\n",
    "test_labels = import_mnist_labels(test_labels_file)\n",
    "\n",
    "print('Test images matrix shape: ' + str(test_images.shape))\n",
    "print('Test labels matrix shape: ' + str(test_labels.shape))"
   ]
  },
  {
   "cell_type": "markdown",
   "metadata": {},
   "source": [
    "# Training the Artificial Neural Network"
   ]
  },
  {
   "cell_type": "markdown",
   "metadata": {},
   "source": [
    "## Data Preprocessing"
   ]
  },
  {
   "cell_type": "code",
   "execution_count": 51,
   "metadata": {},
   "outputs": [
    {
     "name": "stderr",
     "output_type": "stream",
     "text": [
      "/usr/local/lib/python3.6/dist-packages/sklearn/utils/validation.py:475: DataConversionWarning: Data with input dtype int64 was converted to float64 by StandardScaler.\n",
      "  warnings.warn(msg, DataConversionWarning)\n"
     ]
    }
   ],
   "source": [
    "# Importing the libraries\n",
    "import numpy as np\n",
    "import matplotlib.pyplot as plt\n",
    "import pandas as pd\n",
    "\n",
    "# Importing the dataset\n",
    "#dataset = pd.read_csv('Churn_Modelling.csv')\n",
    "#X = dataset.iloc[:, 3:13].values\n",
    "#y = dataset.iloc[:, 13].values\n",
    "X_train = train_images\n",
    "y_train = train_labels\n",
    "X_test = test_images\n",
    "y_test = test_labels\n",
    "\n",
    "# Encoding categorical data\n",
    "from sklearn.preprocessing import LabelEncoder, OneHotEncoder\n",
    "#labelencoder_X_1 = LabelEncoder()\n",
    "#X[:, 1] = labelencoder_X_1.fit_transform(X[:, 1])\n",
    "#labelencoder_X_2 = LabelEncoder()\n",
    "#X[:, 2] = labelencoder_X_2.fit_transform(X[:, 2])\n",
    "#onehotencoder = OneHotEncoder(categorical_features = [1])\n",
    "#X = onehotencoder.fit_transform(X).toarray()\n",
    "#X = X[:, 1:]\n",
    "onehotencoder = OneHotEncoder()\n",
    "y_train = onehotencoder.fit_transform(y_train).toarray()\n",
    "y_test = onehotencoder.fit_transform(y_test).toarray()\n",
    "\n",
    "# Splitting the dataset into the Training set and Test set\n",
    "#from sklearn.model_selection import train_test_split\n",
    "#X_train, X_test, y_train, y_test = train_test_split(X, y, test_size = 0.2, random_state = 0)\n",
    "\n",
    "# Feature Scaling\n",
    "from sklearn.preprocessing import StandardScaler\n",
    "sc = StandardScaler()\n",
    "X_train = sc.fit_transform(X_train)\n",
    "X_test = sc.transform(X_test)"
   ]
  },
  {
   "cell_type": "code",
   "execution_count": 52,
   "metadata": {},
   "outputs": [
    {
     "name": "stdout",
     "output_type": "stream",
     "text": [
      "Test labels encoding\n",
      "[7] ---> [ 0.  0.  0.  0.  0.  0.  0.  1.  0.  0.]\n",
      "[2] ---> [ 0.  0.  1.  0.  0.  0.  0.  0.  0.  0.]\n",
      "[1] ---> [ 0.  1.  0.  0.  0.  0.  0.  0.  0.  0.]\n",
      "[0] ---> [ 1.  0.  0.  0.  0.  0.  0.  0.  0.  0.]\n",
      "[4] ---> [ 0.  0.  0.  0.  1.  0.  0.  0.  0.  0.]\n"
     ]
    }
   ],
   "source": [
    "print('Test labels encoding')\n",
    "for i in range(5):\n",
    "    print(str(test_labels[i]) + ' ---> ' + str(y_test[i]))    "
   ]
  },
  {
   "cell_type": "markdown",
   "metadata": {},
   "source": [
    "## Now let's make the ANN!"
   ]
  },
  {
   "cell_type": "code",
   "execution_count": 53,
   "metadata": {},
   "outputs": [
    {
     "name": "stderr",
     "output_type": "stream",
     "text": [
      "/usr/lib/python3/dist-packages/ipykernel_launcher.py:10: UserWarning: Update your `Dense` call to the Keras 2 API: `Dense(activation=\"relu\", input_dim=784, units=20, kernel_initializer=\"uniform\")`\n",
      "  # Remove the CWD from sys.path while we load stuff.\n",
      "/usr/lib/python3/dist-packages/ipykernel_launcher.py:13: UserWarning: Update your `Dense` call to the Keras 2 API: `Dense(activation=\"relu\", units=20, kernel_initializer=\"uniform\")`\n",
      "  del sys.path[0]\n",
      "/usr/lib/python3/dist-packages/ipykernel_launcher.py:16: UserWarning: Update your `Dense` call to the Keras 2 API: `Dense(activation=\"sigmoid\", units=10, kernel_initializer=\"uniform\")`\n",
      "  app.launch_new_instance()\n",
      "/usr/local/lib/python3.6/dist-packages/keras/models.py:944: UserWarning: The `nb_epoch` argument in `fit` has been renamed `epochs`.\n",
      "  warnings.warn('The `nb_epoch` argument in `fit` '\n"
     ]
    },
    {
     "name": "stdout",
     "output_type": "stream",
     "text": [
      "Epoch 1/10\n",
      "60000/60000 [==============================] - 21s 352us/step - loss: 0.0706 - acc: 0.9769\n",
      "Epoch 2/10\n",
      "60000/60000 [==============================] - 20s 333us/step - loss: 0.0344 - acc: 0.9890\n",
      "Epoch 3/10\n",
      "60000/60000 [==============================] - 20s 334us/step - loss: 0.0287 - acc: 0.9908\n",
      "Epoch 4/10\n",
      "60000/60000 [==============================] - 20s 338us/step - loss: 0.0253 - acc: 0.9919\n",
      "Epoch 5/10\n",
      "60000/60000 [==============================] - 21s 348us/step - loss: 0.0231 - acc: 0.9926\n",
      "Epoch 6/10\n",
      "60000/60000 [==============================] - 20s 336us/step - loss: 0.0218 - acc: 0.9929\n",
      "Epoch 7/10\n",
      "60000/60000 [==============================] - 20s 334us/step - loss: 0.0206 - acc: 0.9933\n",
      "Epoch 8/10\n",
      "60000/60000 [==============================] - 20s 336us/step - loss: 0.0195 - acc: 0.9938\n",
      "Epoch 9/10\n",
      "60000/60000 [==============================] - 20s 335us/step - loss: 0.0189 - acc: 0.9940\n",
      "Epoch 10/10\n",
      "60000/60000 [==============================] - 20s 336us/step - loss: 0.0181 - acc: 0.9942\n"
     ]
    },
    {
     "data": {
      "text/plain": [
       "<keras.callbacks.History at 0x7fb2cfb0b748>"
      ]
     },
     "execution_count": 53,
     "metadata": {},
     "output_type": "execute_result"
    }
   ],
   "source": [
    "# Importing the Keras libraries and packages\n",
    "import keras\n",
    "from keras.models import Sequential\n",
    "from keras.layers import Dense\n",
    "\n",
    "# Initialising the ANN\n",
    "classifier = Sequential()\n",
    "\n",
    "# Adding the input layer and the first hidden layer\n",
    "classifier.add(Dense(output_dim = 20, init = 'uniform', activation = 'relu', input_dim = 784))\n",
    "\n",
    "# Adding the second hidden layer\n",
    "classifier.add(Dense(output_dim = 20, init = 'uniform', activation = 'relu'))\n",
    "\n",
    "# Adding the output layer\n",
    "classifier.add(Dense(output_dim = 10, init = 'uniform', activation = 'sigmoid'))\n",
    "\n",
    "# Compiling the ANN\n",
    "classifier.compile(optimizer = 'adam', loss = 'binary_crossentropy', metrics = ['accuracy'])\n",
    "\n",
    "# Fitting the ANN to the Training set\n",
    "classifier.fit(X_train, y_train, batch_size = 10, nb_epoch = 10)"
   ]
  },
  {
   "cell_type": "markdown",
   "metadata": {},
   "source": [
    "## Making the predictions and evaluating the model"
   ]
  },
  {
   "cell_type": "code",
   "execution_count": 54,
   "metadata": {},
   "outputs": [],
   "source": [
    "def prop_to_category(prob_array):\n",
    "    \"Convert a probability array to a category array, where the bigger prop is the class\"\n",
    "    import numpy as np\n",
    "    index_max = np.argmax(prob_array)\n",
    "    categ_array = [0] * len(prob_array) # create array of zeroes\n",
    "    categ_array[index_max] = 1\n",
    "    return categ_array\n",
    "\n",
    "def onehot_to_int(onehot_matrix):\n",
    "    \"Convert a matrix of one-hot arrays to a matrix of int corresponding to the one-hot 1 index\"\n",
    "    import numpy as np\n",
    "    int_array = [0] * len(onehot_matrix) # create array of zeroes\n",
    "    for idx, val in enumerate(onehot_matrix):\n",
    "        index_max = np.argmax(val) # finds the index of the '1'\n",
    "        int_array[idx] = index_max\n",
    "    return int_array\n",
    "\n",
    "# Predicting the Test set results\n",
    "y_pred = classifier.predict(X_test)\n",
    "# Finds the predicted category\n",
    "for idx in range(len(y_pred)):\n",
    "    y_pred[idx] = prop_to_category(y_pred[idx])\n",
    "# Converts one-hot array to int\n",
    "y_pred = onehot_to_int(y_pred)\n",
    "y_test = onehot_to_int(y_test)\n",
    "\n",
    "# Making the Confusion Matrix\n",
    "#from sklearn.metrics import confusion_matrix\n",
    "#cm = confusion_matrix(y_test, y_pred)"
   ]
  },
  {
   "cell_type": "code",
   "execution_count": 55,
   "metadata": {},
   "outputs": [
    {
     "name": "stdout",
     "output_type": "stream",
     "text": [
      "[7, 2, 1, 0, 4, 1, 4, 9, 5, 9]\n",
      "[7, 2, 1, 0, 4, 1, 4, 9, 5, 9]\n"
     ]
    }
   ],
   "source": [
    "print(y_pred[0:10])\n",
    "print(y_test[0:10])"
   ]
  },
  {
   "cell_type": "code",
   "execution_count": 56,
   "metadata": {},
   "outputs": [
    {
     "name": "stdout",
     "output_type": "stream",
     "text": [
      "The accuracy was 95.81%\n"
     ]
    },
    {
     "data": {
      "image/png": "[encoded data removed]",
      "text/plain": [
       "<matplotlib.figure.Figure at 0x7fb2a5a8f6a0>"
      ]
     },
     "metadata": {},
     "output_type": "display_data"
    }
   ],
   "source": [
    "from sklearn.metrics import accuracy_score\n",
    "score = accuracy_score(y_test, y_pred)\n",
    "print('The accuracy was %s%%' % (score*100))\n",
    "\n",
    "# Making the Confusion Matrix\n",
    "from sklearn.metrics import confusion_matrix\n",
    "cm = confusion_matrix(y_test, y_pred)\n",
    "#print(cm)\n",
    "\n",
    "import seaborn as sns\n",
    "plt.figure(figsize=(9,9))\n",
    "sns.heatmap(cm, annot=True, fmt=\".0f\", linewidths=.5, square = True, cmap = 'Blues_r');\n",
    "plt.ylabel('Actual label');\n",
    "plt.xlabel('Predicted label');\n",
    "all_sample_title = 'Accuracy Score: {0}'.format(score)\n",
    "plt.title(all_sample_title, size = 15);\n",
    "plt.show()"
   ]
  }
 ],
 "metadata": {
  "kernelspec": {
   "display_name": "Python 3",
   "language": "python",
   "name": "python3"
  },
  "language_info": {
   "codemirror_mode": {
    "name": "ipython",
    "version": 3
   },
   "file_extension": ".py",
   "mimetype": "text/x-python",
   "name": "python",
   "nbconvert_exporter": "python",
   "pygments_lexer": "ipython3",
   "version": "3.6.3"
  }
 },
 "nbformat": 4,
 "nbformat_minor": 2
}
