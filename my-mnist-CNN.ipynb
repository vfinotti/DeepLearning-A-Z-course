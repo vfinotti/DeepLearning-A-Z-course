{
 "cells": [
  {
   "cell_type": "markdown",
   "metadata": {},
   "source": [
    "# Import MNIST images"
   ]
  },
  {
   "cell_type": "markdown",
   "metadata": {},
   "source": [
    "- Description of MNIST formats obtained at http://yann.lecun.com/exdb/mnist/\n",
    "- Great tutorial at https://www.pyimagesearch.com/2016/08/01/lenet-convolutional-neural-network-in-python/"
   ]
  },
  {
   "cell_type": "markdown",
   "metadata": {},
   "source": [
    "## Defining functions"
   ]
  },
  {
   "cell_type": "code",
   "execution_count": 21,
   "metadata": {},
   "outputs": [],
   "source": [
    "def import_mnist_images(filename):\n",
    "    import struct\n",
    "    import numpy as np\n",
    "\n",
    "    struct_header_fmt    = '>4i' # int[4]\n",
    "    struct_header_len    = struct.calcsize(struct_header_fmt)\n",
    "    struct_header_unpack = struct.Struct(struct_header_fmt).unpack_from\n",
    "\n",
    "    struct_data_fmt    = '>784B' # unsigned byte[28x28] per image\n",
    "    struct_data_len    = struct.calcsize(struct_data_fmt)\n",
    "    struct_data_unpack = struct.Struct(struct_data_fmt).unpack_from\n",
    "\n",
    "    pixels = []\n",
    "    with open(filename, \"rb\") as f:\n",
    "        header = f.read(struct_header_len)\n",
    "        # header is not saved\n",
    "        while True:\n",
    "            data = f.read(struct_data_len)\n",
    "            if not data: break # read until EOF\n",
    "            s = struct_data_unpack(data)\n",
    "            pixels.append(s)\n",
    "    return np.array(pixels)\n",
    "\n",
    "def import_mnist_labels(filename):\n",
    "    import struct\n",
    "    import numpy as np\n",
    "    \n",
    "    struct_header_fmt    = '>2i' # int[4]\n",
    "    struct_header_len    = struct.calcsize(struct_header_fmt)\n",
    "    struct_header_unpack = struct.Struct(struct_header_fmt).unpack_from\n",
    "\n",
    "    struct_data_fmt    = '>B' # unsigned byte\n",
    "    struct_data_len    = struct.calcsize(struct_data_fmt)\n",
    "    struct_data_unpack = struct.Struct(struct_data_fmt).unpack_from\n",
    "\n",
    "    labels = []\n",
    "    with open(filename, \"rb\") as f:\n",
    "        header = f.read(struct_header_len)\n",
    "        # header is not saved\n",
    "        while True:\n",
    "            data = f.read(struct_data_len)\n",
    "            if not data: break # read until EOF\n",
    "            s = struct_data_unpack(data)\n",
    "            labels.append(s)\n",
    "    return np.array(labels)\n",
    "\n",
    "def display_mnist_image(pixels, label):\n",
    "    import matplotlib.pyplot as plt\n",
    "    \n",
    "    pixels = pixels.reshape(28,28)\n",
    "    plt.imshow(pixels, cmap='binary')\n",
    "    plt.title('Expected Character: ' + str(label))\n",
    "    plt.show()"
   ]
  },
  {
   "cell_type": "markdown",
   "metadata": {},
   "source": [
    "## Importing train files"
   ]
  },
  {
   "cell_type": "code",
   "execution_count": 22,
   "metadata": {},
   "outputs": [
    {
     "name": "stdout",
     "output_type": "stream",
     "text": [
      "Train images matrix shape: (60000, 784)\n",
      "Train labels matrix shape: (60000, 1)\n"
     ]
    },
    {
     "data": {
      "image/png": "[encoded data removed]",
      "text/plain": [
       "<matplotlib.figure.Figure at 0x7f5e8838ce48>"
      ]
     },
     "metadata": {},
     "output_type": "display_data"
    }
   ],
   "source": [
    "train_images_file = './datasets/train-images-idx3-ubyte'\n",
    "train_labels_file = './datasets/train-labels-idx1-ubyte'\n",
    "\n",
    "train_images = import_mnist_images(train_images_file)\n",
    "train_labels = import_mnist_labels(train_labels_file)\n",
    "\n",
    "print('Train images matrix shape: ' + str(train_images.shape))\n",
    "print('Train labels matrix shape: ' + str(train_labels.shape))\n",
    "display_mnist_image(train_images[0],train_labels[0])"
   ]
  },
  {
   "cell_type": "markdown",
   "metadata": {},
   "source": [
    "## Importing test files"
   ]
  },
  {
   "cell_type": "code",
   "execution_count": 5,
   "metadata": {},
   "outputs": [
    {
     "name": "stdout",
     "output_type": "stream",
     "text": [
      "Test images matrix shape: (10000, 784)\n",
      "Test labels matrix shape: (10000, 1)\n"
     ]
    }
   ],
   "source": [
    "test_images_file = './datasets/t10k-images-idx3-ubyte'\n",
    "test_labels_file = './datasets/t10k-labels-idx1-ubyte'\n",
    "\n",
    "test_images = import_mnist_images(test_images_file)\n",
    "test_labels = import_mnist_labels(test_labels_file)\n",
    "\n",
    "print('Test images matrix shape: ' + str(test_images.shape))\n",
    "print('Test labels matrix shape: ' + str(test_labels.shape))"
   ]
  },
  {
   "cell_type": "markdown",
   "metadata": {},
   "source": [
    "# Training the Convolutional Neural Network"
   ]
  },
  {
   "cell_type": "markdown",
   "metadata": {},
   "source": [
    "## Data Preprocessing"
   ]
  },
  {
   "cell_type": "code",
   "execution_count": 8,
   "metadata": {},
   "outputs": [
    {
     "name": "stderr",
     "output_type": "stream",
     "text": [
      "/usr/local/lib/python3.6/dist-packages/sklearn/utils/validation.py:475: DataConversionWarning: Data with input dtype int64 was converted to float64 by StandardScaler.\n",
      "  warnings.warn(msg, DataConversionWarning)\n"
     ]
    }
   ],
   "source": [
    "# Importing the libraries\n",
    "import numpy as np\n",
    "import matplotlib.pyplot as plt\n",
    "import pandas as pd\n",
    "\n",
    "# Importing the dataset\n",
    "X_train = train_images\n",
    "y_train = train_labels\n",
    "X_test = test_images\n",
    "y_test = test_labels\n",
    "\n",
    "# Encoding categorical data\n",
    "from sklearn.preprocessing import LabelEncoder, OneHotEncoder\n",
    "onehotencoder = OneHotEncoder()\n",
    "y_train = onehotencoder.fit_transform(y_train).toarray()\n",
    "y_test = onehotencoder.fit_transform(y_test).toarray()\n",
    "\n",
    "# Splitting the dataset into the Training set and Test set\n",
    "#from sklearn.model_selection import train_test_split\n",
    "#X_train, X_test, y_train, y_test = train_test_split(X, y, test_size = 0.2, random_state = 0)\n",
    "\n",
    "# Feature Scaling\n",
    "from sklearn.preprocessing import StandardScaler\n",
    "sc = StandardScaler()\n",
    "X_train = sc.fit_transform(X_train)\n",
    "X_test = sc.transform(X_test)"
   ]
  },
  {
   "cell_type": "code",
   "execution_count": 9,
   "metadata": {},
   "outputs": [
    {
     "name": "stdout",
     "output_type": "stream",
     "text": [
      "Test labels encoding\n",
      "[7] ---> [ 0.  0.  0.  0.  0.  0.  0.  1.  0.  0.]\n",
      "[2] ---> [ 0.  0.  1.  0.  0.  0.  0.  0.  0.  0.]\n",
      "[1] ---> [ 0.  1.  0.  0.  0.  0.  0.  0.  0.  0.]\n",
      "[0] ---> [ 1.  0.  0.  0.  0.  0.  0.  0.  0.  0.]\n",
      "[4] ---> [ 0.  0.  0.  0.  1.  0.  0.  0.  0.  0.]\n"
     ]
    }
   ],
   "source": [
    "print('Test labels encoding')\n",
    "for i in range(5):\n",
    "    print(str(test_labels[i]) + ' ---> ' + str(y_test[i]))    "
   ]
  },
  {
   "cell_type": "markdown",
   "metadata": {},
   "source": [
    "## Now let's make the CNN! (LeNet)"
   ]
  },
  {
   "cell_type": "code",
   "execution_count": 15,
   "metadata": {},
   "outputs": [
    {
     "name": "stderr",
     "output_type": "stream",
     "text": [
      "/usr/lib/python3/dist-packages/ipykernel_launcher.py:19: UserWarning: Update your `Conv2D` call to the Keras 2 API: `Conv2D(20, (5, 5), input_shape=(28, 28, 1..., activation=\"relu\")`\n",
      "/usr/lib/python3/dist-packages/ipykernel_launcher.py:23: UserWarning: Update your `Conv2D` call to the Keras 2 API: `Conv2D(50, (5, 5), activation=\"relu\")`\n",
      "/usr/lib/python3/dist-packages/ipykernel_launcher.py:28: UserWarning: Update your `Dense` call to the Keras 2 API: `Dense(activation=\"relu\", units=500)`\n",
      "/usr/lib/python3/dist-packages/ipykernel_launcher.py:31: UserWarning: Update your `Dense` call to the Keras 2 API: `Dense(activation=\"softmax\", units=10)`\n",
      "/usr/local/lib/python3.6/dist-packages/keras/models.py:944: UserWarning: The `nb_epoch` argument in `fit` has been renamed `epochs`.\n",
      "  warnings.warn('The `nb_epoch` argument in `fit` '\n"
     ]
    },
    {
     "name": "stdout",
     "output_type": "stream",
     "text": [
      "Epoch 1/10\n",
      "60000/60000 [==============================] - 106s 2ms/step - loss: 0.0189 - acc: 0.9937\n",
      "Epoch 2/10\n",
      "60000/60000 [==============================] - 111s 2ms/step - loss: 0.0094 - acc: 0.9971\n",
      "Epoch 3/10\n",
      "60000/60000 [==============================] - 112s 2ms/step - loss: 0.0071 - acc: 0.9979\n",
      "Epoch 4/10\n",
      "60000/60000 [==============================] - 122s 2ms/step - loss: 0.0060 - acc: 0.9982\n",
      "Epoch 5/10\n",
      "60000/60000 [==============================] - 105s 2ms/step - loss: 0.0056 - acc: 0.9984\n",
      "Epoch 6/10\n",
      "60000/60000 [==============================] - 102s 2ms/step - loss: 0.0047 - acc: 0.9988\n",
      "Epoch 7/10\n",
      "60000/60000 [==============================] - 104s 2ms/step - loss: 0.0052 - acc: 0.9987\n",
      "Epoch 8/10\n",
      "60000/60000 [==============================] - 124s 2ms/step - loss: 0.0055 - acc: 0.9987\n",
      "Epoch 9/10\n",
      "60000/60000 [==============================] - 111s 2ms/step - loss: 0.0053 - acc: 0.9989\n",
      "Epoch 10/10\n",
      "60000/60000 [==============================] - 113s 2ms/step - loss: 0.0043 - acc: 0.9991\n"
     ]
    },
    {
     "data": {
      "text/plain": [
       "<keras.callbacks.History at 0x7f5e87d9c160>"
      ]
     },
     "execution_count": 15,
     "metadata": {},
     "output_type": "execute_result"
    }
   ],
   "source": [
    "# Importing the Keras libraries and packages\n",
    "import keras\n",
    "from keras.models import Sequential\n",
    "from keras.layers import Convolution2D\n",
    "from keras.layers import MaxPooling2D\n",
    "from keras.layers import Flatten\n",
    "from keras.layers import Dense\n",
    "\n",
    "# Defining constants\n",
    "input_width  = 28\n",
    "input_height = 28 \n",
    "input_depth  = 1\n",
    "\n",
    "# Initialising the CNN\n",
    "classifier = Sequential()\n",
    "\n",
    "# First set of CONV => RELU => POOL\n",
    "classifier.add(Convolution2D(20, 5, 5, input_shape = (input_width, input_height, input_depth),\n",
    "                             activation = 'relu'))\n",
    "classifier.add(MaxPooling2D(pool_size = (2, 2)))\n",
    "\n",
    "# Second set of CONV => RELU => POOL\n",
    "classifier.add(Convolution2D(50, 5, 5, activation = 'relu'))\n",
    "classifier.add(MaxPooling2D(pool_size = (2, 2)))\n",
    "\n",
    "# Set of FC => RELU layers\n",
    "classifier.add(Flatten())\n",
    "classifier.add(Dense(output_dim = 500, activation = 'relu'))\n",
    "\n",
    "# Softmax classifier\n",
    "classifier.add(Dense(output_dim = 10, activation = 'softmax'))\n",
    "\n",
    "# Compiling the CNN\n",
    "classifier.compile(optimizer = 'adam', loss = 'binary_crossentropy', metrics = ['accuracy'])\n",
    "\n",
    "# Funtion to reshape 784 arrays to 28x28 images\n",
    "def reshape_to_image(dataset, width, height):\n",
    "    import numpy as np\n",
    "    dataset = np.array(dataset)\n",
    "    dataset = dataset.reshape(dataset.shape[0], width, height)\n",
    "    return dataset\n",
    "\n",
    "# reshape the MNIST dataset from a flat list of 784-dim vectors, to\n",
    "# 28 x 28 pixel images, then scale the data to the range [0, 1.0]\n",
    "# and construct the training and testing splits\n",
    "X_train = reshape_to_image(X_train, input_width, input_height)\n",
    "X_test  = reshape_to_image(X_test, input_width, input_height)\n",
    "\n",
    "# Adding on extra dimension to dataset, because keras expects\n",
    "# us to provide at least one dimension, so we do\n",
    "# (60000, 28, 28) --> (60000, 28, 28, 1)\n",
    "X_train = X_train[:, :, :, np.newaxis]\n",
    "X_test  = X_test[:, :, :, np.newaxis]\n",
    "\n",
    "# Fitting the ANN to the Training set\n",
    "classifier.fit(X_train, y_train, batch_size = 10, nb_epoch = 10)"
   ]
  },
  {
   "cell_type": "markdown",
   "metadata": {},
   "source": [
    "## Making the predictions and evaluating the model"
   ]
  },
  {
   "cell_type": "code",
   "execution_count": 17,
   "metadata": {},
   "outputs": [],
   "source": [
    "def prop_to_category(prob_array):\n",
    "    \"Convert a probability array to a category array, where the bigger prop is the class\"\n",
    "    import numpy as np\n",
    "    index_max = np.argmax(prob_array)\n",
    "    categ_array = [0] * len(prob_array) # create array of zeroes\n",
    "    categ_array[index_max] = 1\n",
    "    return categ_array\n",
    "\n",
    "def onehot_to_int(onehot_matrix):\n",
    "    \"Convert a matrix of one-hot arrays to a matrix of int corresponding to the one-hot 1 index\"\n",
    "    import numpy as np\n",
    "    int_array = [0] * len(onehot_matrix) # create array of zeroes\n",
    "    for idx, val in enumerate(onehot_matrix):\n",
    "        index_max = np.argmax(val) # finds the index of the '1'\n",
    "        int_array[idx] = index_max\n",
    "    return int_array\n",
    "\n",
    "# Predicting the Test set results\n",
    "y_pred = classifier.predict(X_test)\n",
    "# Finds the predicted category\n",
    "for idx in range(len(y_pred)):\n",
    "    y_pred[idx] = prop_to_category(y_pred[idx])\n",
    "# Converts one-hot array to int\n",
    "y_pred = onehot_to_int(y_pred)\n",
    "y_test = onehot_to_int(y_test)"
   ]
  },
  {
   "cell_type": "code",
   "execution_count": 18,
   "metadata": {},
   "outputs": [
    {
     "name": "stdout",
     "output_type": "stream",
     "text": [
      "[7, 2, 1, 0, 4, 1, 4, 9, 5, 9]\n",
      "[7, 2, 1, 0, 4, 1, 4, 9, 5, 9]\n"
     ]
    }
   ],
   "source": [
    "print(y_pred[0:10])\n",
    "print(y_test[0:10])"
   ]
  },
  {
   "cell_type": "code",
   "execution_count": 23,
   "metadata": {},
   "outputs": [
    {
     "name": "stdout",
     "output_type": "stream",
     "text": [
      "The accuracy was 98.82%\n"
     ]
    },
    {
     "data": {
      "image/png": "[encoded data removed]",
      "text/plain": [
       "<matplotlib.figure.Figure at 0x7f5e75e6de80>"
      ]
     },
     "metadata": {},
     "output_type": "display_data"
    }
   ],
   "source": [
    "from sklearn.metrics import accuracy_score\n",
    "score = accuracy_score(y_test, y_pred)\n",
    "print('The accuracy was %s%%' % (score*100))\n",
    "\n",
    "# Making the Confusion Matrix\n",
    "from sklearn.metrics import confusion_matrix\n",
    "cm = confusion_matrix(y_test, y_pred)\n",
    "#print(cm)\n",
    "\n",
    "import seaborn as sns\n",
    "plt.figure(figsize=(9,9))\n",
    "sns.heatmap(cm, annot=True, fmt=\".0f\", linewidths=.5, square = True, cmap = 'Blues_r');\n",
    "plt.ylabel('Actual label');\n",
    "plt.xlabel('Predicted label');\n",
    "all_sample_title = 'Accuracy Score: {0}'.format(score)\n",
    "plt.title(all_sample_title, size = 15);\n",
    "plt.show()"
   ]
  }
 ],
 "metadata": {
  "kernelspec": {
   "display_name": "Python 3",
   "language": "python",
   "name": "python3"
  },
  "language_info": {
   "codemirror_mode": {
    "name": "ipython",
    "version": 3
   },
   "file_extension": ".py",
   "mimetype": "text/x-python",
   "name": "python",
   "nbconvert_exporter": "python",
   "pygments_lexer": "ipython3",
   "version": "3.6.4"
  }
 },
 "nbformat": 4,
 "nbformat_minor": 2
}
