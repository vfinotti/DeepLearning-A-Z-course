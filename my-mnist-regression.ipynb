{
 "cells": [
  {
   "cell_type": "markdown",
   "metadata": {},
   "source": [
    "# Import MNIST images"
   ]
  },
  {
   "cell_type": "markdown",
   "metadata": {},
   "source": [
    "Description of MNIST formats obtained at http://yann.lecun.com/exdb/mnist/"
   ]
  },
  {
   "cell_type": "markdown",
   "metadata": {},
   "source": [
    "## Defining functions"
   ]
  },
  {
   "cell_type": "code",
   "execution_count": 1,
   "metadata": {},
   "outputs": [],
   "source": [
    "def import_mnist_images(filename):\n",
    "    import struct\n",
    "    import numpy as np\n",
    "\n",
    "    struct_header_fmt    = '>4i' # int[4]\n",
    "    struct_header_len    = struct.calcsize(struct_header_fmt)\n",
    "    struct_header_unpack = struct.Struct(struct_header_fmt).unpack_from\n",
    "\n",
    "    struct_data_fmt    = '>784B' # unsigned byte[28x28] per image\n",
    "    struct_data_len    = struct.calcsize(struct_data_fmt)\n",
    "    struct_data_unpack = struct.Struct(struct_data_fmt).unpack_from\n",
    "\n",
    "    pixels = []\n",
    "    with open(filename, \"rb\") as f:\n",
    "        header = f.read(struct_header_len)\n",
    "        # header is not saved\n",
    "        while True:\n",
    "            data = f.read(struct_data_len)\n",
    "            if not data: break # read until EOF\n",
    "            s = struct_data_unpack(data)\n",
    "            pixels.append(s)\n",
    "    return np.array(pixels)\n",
    "\n",
    "def import_mnist_labels(filename):\n",
    "    import struct\n",
    "    import numpy as np\n",
    "    \n",
    "    struct_header_fmt    = '>2i' # int[4]\n",
    "    struct_header_len    = struct.calcsize(struct_header_fmt)\n",
    "    struct_header_unpack = struct.Struct(struct_header_fmt).unpack_from\n",
    "\n",
    "    struct_data_fmt    = '>B' # unsigned byte\n",
    "    struct_data_len    = struct.calcsize(struct_data_fmt)\n",
    "    struct_data_unpack = struct.Struct(struct_data_fmt).unpack_from\n",
    "\n",
    "    labels = []\n",
    "    with open(filename, \"rb\") as f:\n",
    "        header = f.read(struct_header_len)\n",
    "        # header is not saved\n",
    "        while True:\n",
    "            data = f.read(struct_data_len)\n",
    "            if not data: break # read until EOF\n",
    "            s = struct_data_unpack(data)\n",
    "            labels.append(s)\n",
    "    return np.array(labels)\n",
    "\n",
    "def display_mnist_image(pixels, label):\n",
    "    import matplotlib.pyplot as plt\n",
    "    \n",
    "    pixels = pixels.reshape(28,28)\n",
    "    plt.imshow(pixels, cmap='binary')\n",
    "    plt.title('Expected Character: ' + str(label))\n",
    "    plt.show()"
   ]
  },
  {
   "cell_type": "markdown",
   "metadata": {},
   "source": [
    "## Importing train files"
   ]
  },
  {
   "cell_type": "code",
   "execution_count": 2,
   "metadata": {},
   "outputs": [
    {
     "name": "stdout",
     "output_type": "stream",
     "text": [
      "Train images matrix shape: (60000, 784)\n",
      "Train labels matrix shape: (60000, 1)\n"
     ]
    },
    {
     "data": {
      "image/png": "[encoded data removed]",
      "text/plain": [
       "<matplotlib.figure.Figure at 0x7ff9dc6a8668>"
      ]
     },
     "metadata": {},
     "output_type": "display_data"
    }
   ],
   "source": [
    "train_images_file = './datasets/train-images-idx3-ubyte'\n",
    "train_labels_file = './datasets/train-labels-idx1-ubyte'\n",
    "\n",
    "train_images = import_mnist_images(train_images_file)\n",
    "train_labels = import_mnist_labels(train_labels_file)\n",
    "\n",
    "print('Train images matrix shape: ' + str(train_images.shape))\n",
    "print('Train labels matrix shape: ' + str(train_labels.shape))\n",
    "display_mnist_image(train_images[0],train_labels[0])"
   ]
  },
  {
   "cell_type": "markdown",
   "metadata": {},
   "source": [
    "## Importing test files"
   ]
  },
  {
   "cell_type": "code",
   "execution_count": 3,
   "metadata": {},
   "outputs": [
    {
     "name": "stdout",
     "output_type": "stream",
     "text": [
      "Test images matrix shape: (10000, 784)\n",
      "Test labels matrix shape: (10000, 1)\n"
     ]
    }
   ],
   "source": [
    "test_images_file = './datasets/t10k-images-idx3-ubyte'\n",
    "test_labels_file = './datasets/t10k-labels-idx1-ubyte'\n",
    "\n",
    "test_images = import_mnist_images(test_images_file)\n",
    "test_labels = import_mnist_labels(test_labels_file)\n",
    "\n",
    "print('Test images matrix shape: ' + str(test_images.shape))\n",
    "print('Test labels matrix shape: ' + str(test_labels.shape))"
   ]
  },
  {
   "cell_type": "markdown",
   "metadata": {},
   "source": [
    "# Training regression"
   ]
  },
  {
   "cell_type": "code",
   "execution_count": 7,
   "metadata": {},
   "outputs": [
    {
     "name": "stderr",
     "output_type": "stream",
     "text": [
      "/usr/local/lib/python3.6/dist-packages/sklearn/cross_validation.py:41: DeprecationWarning: This module was deprecated in version 0.18 in favor of the model_selection module into which all the refactored classes and functions are moved. Also note that the interface of the new CV iterators are different from that of this module. This module will be removed in 0.20.\n",
      "  \"This module will be removed in 0.20.\", DeprecationWarning)\n",
      "/usr/local/lib/python3.6/dist-packages/sklearn/utils/validation.py:578: DataConversionWarning: A column-vector y was passed when a 1d array was expected. Please change the shape of y to (n_samples, ), for example using ravel().\n",
      "  y = column_or_1d(y, warn=True)\n"
     ]
    }
   ],
   "source": [
    "# Logistic Regression\n",
    "\n",
    "# Importing the libraries\n",
    "import numpy as np\n",
    "import matplotlib.pyplot as plt\n",
    "import pandas as pd\n",
    "\n",
    "# Importing the dataset\n",
    "X = test_images\n",
    "y = test_labels\n",
    "\n",
    "# Splitting the dataset into the Training set and Test set\n",
    "from sklearn.cross_validation import train_test_split\n",
    "X_train, X_test, y_train, y_test = train_test_split(X, y, test_size = 0.25, random_state = 0)\n",
    "\n",
    "# Feature Scaling\n",
    "#from sklearn.preprocessing import StandardScaler\n",
    "#sc = StandardScaler()\n",
    "#X_train = sc.fit_transform(X_train)\n",
    "#X_test = sc.transform(X_test)\n",
    "\n",
    "# y to array of binaries\n",
    "#from sklearn import preprocessing\n",
    "#lb = preprocessing.LabelBinarizer(neg_label=0, pos_label=1, sparse_output=False)\n",
    "#y_train = lb.fit_transform(y_train)\n",
    "#y_test  = lb.fit_transform(y_test)\n",
    "\n",
    "# Fitting Logistic Regression to the Training set\n",
    "from sklearn.linear_model import LogisticRegression\n",
    "classifier = LogisticRegression(random_state = 0, solver = 'lbfgs')\n",
    "classifier.fit(X_train, y_train)\n",
    "\n",
    "# Predicting the Test set results\n",
    "y_pred = classifier.predict(X_test)"
   ]
  },
  {
   "cell_type": "code",
   "execution_count": 16,
   "metadata": {},
   "outputs": [
    {
     "name": "stdout",
     "output_type": "stream",
     "text": [
      "The accuracy was 87.36%\n"
     ]
    },
    {
     "data": {
      "image/png": "[encoded data removed]",
      "text/plain": [
       "<matplotlib.figure.Figure at 0x7ff9788cfcf8>"
      ]
     },
     "metadata": {},
     "output_type": "display_data"
    }
   ],
   "source": [
    "from sklearn.metrics import accuracy_score\n",
    "score = accuracy_score(y_test, y_pred)\n",
    "print('The accuracy was %s%%' % (score*100))\n",
    "\n",
    "# Making the Confusion Matrix\n",
    "from sklearn.metrics import confusion_matrix\n",
    "cm = confusion_matrix(y_test, y_pred)\n",
    "#print(cm)\n",
    "\n",
    "import seaborn as sns\n",
    "plt.figure(figsize=(9,9))\n",
    "sns.heatmap(cm, annot=True, fmt=\".0f\", linewidths=.5, square = True, cmap = 'Blues_r');\n",
    "plt.ylabel('Actual label');\n",
    "plt.xlabel('Predicted label');\n",
    "all_sample_title = 'Accuracy Score: {0}'.format(score)\n",
    "plt.title(all_sample_title, size = 15);\n",
    "plt.show()"
   ]
  },
  {
   "cell_type": "code",
   "execution_count": null,
   "metadata": {},
   "outputs": [],
   "source": []
  }
 ],
 "metadata": {
  "kernelspec": {
   "display_name": "Python 3",
   "language": "python",
   "name": "python3"
  },
  "language_info": {
   "codemirror_mode": {
    "name": "ipython",
    "version": 3
   },
   "file_extension": ".py",
   "mimetype": "text/x-python",
   "name": "python",
   "nbconvert_exporter": "python",
   "pygments_lexer": "ipython3",
   "version": "3.6.3"
  }
 },
 "nbformat": 4,
 "nbformat_minor": 2
}
